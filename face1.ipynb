{
 "cells": [
  {
   "cell_type": "code",
   "execution_count": null,
   "metadata": {},
   "outputs": [],
   "source": [
    "import cv2\n",
    "import numpy as np\n",
    "face_classifier=cv2.CascadeClassifier(\"C:/Users/pravesh/Desktop/Program2/haarcascade_frontalface_default.xml\")\n",
    "cap=cv2.VideoCapture(1)\n",
    "count = 0\n",
    "def face_extractor(img):\n",
    "    gray=cv2.cvtColor(img,cv2.COLOR_BGR2GRAY)\n",
    "    faces = face_classifier.detectMultiScale(gray,1.3,5)\n",
    "    if faces ==():\n",
    "        return None\n",
    "    else:\n",
    "        for(x,y,w,h) in faces:\n",
    "            croped_face=img[y:y+h,x:x+w]\n",
    "            return croped_face\n",
    "while True:    \n",
    "    ret,frame=cap.read()\n",
    "    if ret:\n",
    "        if face_extractor(frame) is not None:\n",
    "            count+=1\n",
    "            face=cv2.resize(face_extractor(frame),(200,200))\n",
    "            face= cv2.cvtColor(face,cv2.COLOR_BGR2GRAY)\n",
    "            file_name_path = 'C:/Users/pravesh/Desktop/Program2/face/user'+str(count)+'.jpg'\n",
    "            cv2.imwrite(file_name_path,face)\n",
    "            cv2.putText(face,str(count),(50,50),cv2.FONT_HERSHEY_COMPLEX,1,(0,255,0),2)\n",
    "            cv2.imshow(\"FACE Crpper\",face)\n",
    "        else:\n",
    "            print(\"Face not found\")\n",
    "            pass\n",
    "        if cv2.waitKey(1)==13 or count==100 or 0xFF==ord('q'):\n",
    "            break\n",
    "cap.release()\n",
    "cv2.destroyAllWindows()\n",
    "print(\"Collecting Sample Complete!!!!!\")\n"
   ]
  },
  {
   "cell_type": "code",
   "execution_count": null,
   "metadata": {},
   "outputs": [],
   "source": [
    "print(\"hello\")"
   ]
  },
  {
   "cell_type": "code",
   "execution_count": null,
   "metadata": {},
   "outputs": [],
   "source": []
  }
 ],
 "metadata": {
  "kernelspec": {
   "display_name": "Python 3",
   "language": "python",
   "name": "python3"
  },
  "language_info": {
   "codemirror_mode": {
    "name": "ipython",
    "version": 3
   },
   "file_extension": ".py",
   "mimetype": "text/x-python",
   "name": "python",
   "nbconvert_exporter": "python",
   "pygments_lexer": "ipython3",
   "version": "3.8.1"
  }
 },
 "nbformat": 4,
 "nbformat_minor": 4
}
